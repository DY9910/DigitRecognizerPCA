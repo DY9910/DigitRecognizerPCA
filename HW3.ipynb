{
 "cells": [
  {
   "cell_type": "code",
   "execution_count": null,
   "id": "28186231",
   "metadata": {},
   "outputs": [],
   "source": [
    "import numpy as np\n",
    "import pandas as pd\n",
    "import struct\n",
    "import matplotlib.pyplot as plt\n",
    "from sklearn.decomposition import PCA\n",
    "from sklearn.linear_model import RidgeCV\n",
    "from sklearn.linear_model import RidgeClassifier\n",
    "from sklearn.neighbors import KNeighborsClassifier\n",
    "from sklearn.discriminant_analysis import LinearDiscriminantAnalysis"
   ]
  },
  {
   "cell_type": "code",
   "execution_count": null,
   "id": "ac0bfc1d",
   "metadata": {},
   "outputs": [],
   "source": [
    "with open('data/train-images.idx3-ubyte','rb') as f:\n",
    "    magic, size = struct.unpack(\">II\", f.read(8))\n",
    "    nrows, ncols = struct.unpack(\">II\", f.read(8))\n",
    "    data = np.fromfile(f, dtype=np.dtype(np.uint8).newbyteorder('>'))\n",
    "#     print(data.shape)\n",
    "    Xtraindata = np.transpose(data.reshape((size, nrows*ncols)))\n",
    "\n",
    "with open('data/train-labels.idx1-ubyte','rb') as f:\n",
    "    magic, size = struct.unpack(\">II\", f.read(8))\n",
    "    data = np.fromfile(f, dtype=np.dtype(np.uint8).newbyteorder('>'))\n",
    "    ytrainlabels = data.reshape((size,)) # (Optional)\n",
    "\n",
    "with open('data/t10k-images.idx3-ubyte','rb') as f:\n",
    "    magic, size = struct.unpack(\">II\", f.read(8))\n",
    "    nrows, ncols = struct.unpack(\">II\", f.read(8))\n",
    "    data = np.fromfile(f, dtype=np.dtype(np.uint8).newbyteorder('>'))\n",
    "    Xtestdata = np.transpose(data.reshape((size, nrows*ncols)))\n",
    "\n",
    "with open('data/t10k-labels.idx1-ubyte','rb') as f:\n",
    "    magic, size = struct.unpack(\">II\", f.read(8))\n",
    "    data = np.fromfile(f, dtype=np.dtype(np.uint8).newbyteorder('>'))\n",
    "    ytestlabels = data.reshape((size,)) # (Optional)\n",
    "\n",
    "print(Xtraindata.shape)\n",
    "print(ytrainlabels.shape)\n",
    "print(Xtestdata.shape)\n",
    "print(ytestlabels.shape)"
   ]
  },
  {
   "cell_type": "code",
   "execution_count": null,
   "id": "f14f57dd",
   "metadata": {
    "scrolled": false
   },
   "outputs": [],
   "source": [
    "def plot_digits(XX, N, title, text):\n",
    "    fig, ax = plt.subplots(N, N, figsize=(8, 8))\n",
    "    c = 0\n",
    "    for i in range(N):\n",
    "      for j in range(N):\n",
    "        c += 1 \n",
    "        ax[i,j].imshow(XX[(N)*i+j,:].reshape((28, 28)), cmap=\"Greys\")\n",
    "        ax[i,j].axis(\"off\")\n",
    "        ax[i,j].set_title(f'{text} {c}')\n",
    "        \n",
    "    fig.suptitle(title, fontsize=24)\n",
    "plot_digits(Xtraindata.T, 8, \"First 64 Training Images\", \"\")"
   ]
  },
  {
   "cell_type": "code",
   "execution_count": null,
   "id": "ea1d73d0",
   "metadata": {
    "scrolled": false
   },
   "outputs": [],
   "source": [
    "X_train = Xtraindata.T\n",
    "X_test = Xtestdata.T\n",
    "pca = PCA()\n",
    "pca.fit(X_train)\n",
    "train_img = pca.transform(X_train)\n",
    "train_img.shape"
   ]
  },
  {
   "cell_type": "code",
   "execution_count": null,
   "id": "32f64338",
   "metadata": {
    "scrolled": false
   },
   "outputs": [],
   "source": [
    "principal_components = pca.components_\n",
    "plot_digits(principal_components, 4, \"First 16 Modes Images\", \"PC\")"
   ]
  },
  {
   "cell_type": "code",
   "execution_count": null,
   "id": "2120be0f",
   "metadata": {
    "scrolled": true
   },
   "outputs": [],
   "source": [
    "explained_variance_ratio = pca.explained_variance_ratio_\n",
    "cumulative_explained_variance = np.cumsum(explained_variance_ratio)\n",
    "k = np.argmax(cumulative_explained_variance >= 0.85) + 1 \n",
    "\n",
    "print(f\"Number of PC modes needed to approximate 85% of the energy: {k}\")"
   ]
  },
  {
   "cell_type": "code",
   "execution_count": null,
   "id": "74d6eeca",
   "metadata": {
    "scrolled": false
   },
   "outputs": [],
   "source": [
    "plt.figure(figsize=(10, 6))\n",
    "plt.plot(cumulative_explained_variance, marker='o', linestyle='-', color='b')\n",
    "\n",
    "k_85 = np.argmax(cumulative_explained_variance >= 0.85) # last index of the components have 85% energy\n",
    "plt.axhline(y=0.85, color='r', linestyle='--')\n",
    "plt.axvline(x=k_85, color='r', linestyle='--')\n",
    "\n",
    "plt.text(k_85, 0.5, f'  {k_85+1} Components', color = 'black')\n",
    "\n",
    "plt.xlabel('Number of Components')\n",
    "plt.ylabel('Cumulative Explained Variance')\n",
    "plt.title('Cumulative Explained Variance by Number of Principal Components')\n",
    "plt.grid(True)\n",
    "\n",
    "plt.show()\n"
   ]
  },
  {
   "cell_type": "code",
   "execution_count": null,
   "id": "bfbcc31f",
   "metadata": {},
   "outputs": [],
   "source": [
    "pca85 = PCA(n_components = k_85 + 1)\n",
    "pca85.fit(X_train)"
   ]
  },
  {
   "cell_type": "code",
   "execution_count": null,
   "id": "aa919211",
   "metadata": {},
   "outputs": [],
   "source": [
    "def project_data(X, pca):\n",
    "    return pca.transform(X)[:,:]"
   ]
  },
  {
   "cell_type": "code",
   "execution_count": null,
   "id": "2e2c71c2",
   "metadata": {},
   "outputs": [],
   "source": [
    "# Task 3\n",
    "\n",
    "def select_digits(X_train, y_train, X_test, y_test, digits):\n",
    "    train_indices = np.isin(y_train, digits)\n",
    "    test_indices = np.isin(y_test, digits)\n",
    "    \n",
    "    X_subtrain = X_train[train_indices]\n",
    "    y_subtrain = y_train[train_indices]\n",
    "    X_subtest = X_test[test_indices]\n",
    "    y_subtest = y_test[test_indices]\n",
    "    \n",
    "    return X_subtrain, y_subtrain, X_subtest, y_subtest\n",
    "\n"
   ]
  },
  {
   "cell_type": "code",
   "execution_count": null,
   "id": "fe6881db",
   "metadata": {},
   "outputs": [],
   "source": [
    "# Task 4\n",
    "digits = [1, 8]\n",
    "X_subtrain, y_subtrain, X_subtest, y_subtest = select_digits(Xtraindata.T, ytrainlabels, Xtestdata.T, ytestlabels, digits)\n",
    "\n",
    "X_train_projected = project_data(X_subtrain, pca85)\n",
    "X_test_projected = project_data(X_subtest, pca85)\n",
    "X_train_projected.shape\n",
    "\n",
    "# Train Ridge classifier wich CV\n",
    "classifier_18 = RidgeCV()\n",
    "classifier_18.fit(X_train_projected, y_subtrain)\n",
    "test_score_18 = classifier_18.score(X_test_projected, y_subtest)\n",
    "print(f'Test accuracy of Ridge with CV between digit 1 and 8: {test_score_18}')"
   ]
  },
  {
   "cell_type": "code",
   "execution_count": null,
   "id": "6afb14af",
   "metadata": {},
   "outputs": [],
   "source": [
    "# Task 5\n",
    "digits = [3,8]\n",
    "X_subtrain, y_subtrain, X_subtest, y_subtest = select_digits(Xtraindata.T, ytrainlabels, Xtestdata.T, ytestlabels, digits)\n",
    "\n",
    "X_train_projected = project_data(X_subtrain, pca85)\n",
    "X_test_projected = project_data(X_subtest, pca85)\n",
    "# print(X_train_projected.shape)\n",
    "\n",
    "# Train Ridge classifier wich CV\n",
    "classifier_38 = RidgeCV()\n",
    "classifier_38.fit(X_train_projected, y_subtrain)\n",
    "test_score_38 = classifier_38.score(X_test_projected, y_subtest)\n",
    "print(f'Test accuracy of Ridge with CV between digit 3 and 8: {test_score_38}')"
   ]
  },
  {
   "cell_type": "code",
   "execution_count": null,
   "id": "f23061e5",
   "metadata": {},
   "outputs": [],
   "source": [
    "digits = [2,7]\n",
    "X_subtrain, y_subtrain, X_subtest, y_subtest = select_digits(Xtraindata.T, ytrainlabels, Xtestdata.T, ytestlabels, digits)\n",
    "\n",
    "X_train_projected = project_data(X_subtrain, pca85)\n",
    "X_test_projected = project_data(X_subtest, pca85)\n",
    "X_train_projected.shape\n",
    "\n",
    "# Train Ridge classifier wich CV\n",
    "classifier_27 = RidgeCV()\n",
    "classifier_27.fit(X_train_projected, y_subtrain)\n",
    "test_score_27 = classifier_27.score(X_test_projected, y_subtest)\n",
    "print(f'Test accuracy of Ridge with CV between digit 2 and 7: {test_score_27}')"
   ]
  },
  {
   "cell_type": "code",
   "execution_count": null,
   "id": "0d840e27",
   "metadata": {},
   "outputs": [],
   "source": [
    "# Task 6\n",
    "\n",
    "X_train_projected = project_data(X_train, pca85)\n",
    "X_test_projected = project_data(X_test, pca85)\n",
    "# X_train_projected.shape\n",
    "# X_test_projected.shape\n",
    "\n",
    "# Train Multi-class Ridge classifier\n",
    "classifier_mul = RidgeClassifier()\n",
    "classifier_mul.fit(X_train_projected, ytrainlabels)\n",
    "test_score_mul = classifier_mul.score(X_test_projected, ytestlabels)\n",
    "print(f'Test accuracy of Multi-class Ridge: {test_score_mul}')\n",
    "\n",
    "# Train KNN classifier\n",
    "k = 10\n",
    "knn = KNeighborsClassifier(n_neighbors=k)\n",
    "knn.fit(X_train_projected, ytrainlabels)\n",
    "test_score_knn = knn.score(X_test_projected, ytestlabels)\n",
    "print(f'Test accuracy of KNN: {test_score_knn}')\n",
    "\n",
    "# LDA\n",
    "lda = LinearDiscriminantAnalysis()\n",
    "lda.fit(X_train_projected, ytrainlabels)\n",
    "test_score_lda = lda.score(X_test_projected, ytestlabels)\n",
    "print(f'Test accuracy of LDA: {test_score_lda}')"
   ]
  },
  {
   "cell_type": "code",
   "execution_count": null,
   "id": "baf6b535",
   "metadata": {},
   "outputs": [],
   "source": [
    "# Task 7 Neural Network\n",
    "import tensorflow as tf\n",
    "from tensorflow.keras.models import Sequential\n",
    "from tensorflow.keras.layers import Dense, Dropout\n",
    "from tensorflow.keras.utils import to_categorical\n",
    "\n",
    "y_train_onehot = to_categorical(ytrainlabels, num_classes=10)\n",
    "y_test_onehot = to_categorical(ytestlabels, num_classes=10)\n",
    "\n",
    "model = Sequential([\n",
    "    Dense(128, activation='relu', input_shape=(59,)),\n",
    "    Dropout(0.5),\n",
    "    Dense(64, activation='relu'),\n",
    "    Dropout(0.5),\n",
    "    Dense(10, activation='softmax')\n",
    "])\n",
    "\n",
    "model.compile(optimizer='adam',\n",
    "              loss='categorical_crossentropy',\n",
    "              metrics=['accuracy'])\n",
    "\n",
    "history = model.fit(X_train_projected, y_train_onehot, epochs=20, batch_size=128, validation_split=0.2)\n",
    "NN_test_loss, NN_test_acc = model.evaluate(X_test_projected, y_test_onehot)\n",
    "print(f'Test accuracy of Neural Network: {NN_test_acc}')"
   ]
  },
  {
   "cell_type": "code",
   "execution_count": null,
   "id": "9ada2baf",
   "metadata": {},
   "outputs": [],
   "source": []
  }
 ],
 "metadata": {
  "kernelspec": {
   "display_name": "Python 3 (ipykernel)",
   "language": "python",
   "name": "python3"
  },
  "language_info": {
   "codemirror_mode": {
    "name": "ipython",
    "version": 3
   },
   "file_extension": ".py",
   "mimetype": "text/x-python",
   "name": "python",
   "nbconvert_exporter": "python",
   "pygments_lexer": "ipython3",
   "version": "3.11.5"
  }
 },
 "nbformat": 4,
 "nbformat_minor": 5
}
